{
 "cells": [
  {
   "cell_type": "markdown",
   "metadata": {},
   "source": [
    "# Puzzler Express, 9 Nov 2018"
   ]
  },
  {
   "cell_type": "code",
   "execution_count": 1,
   "metadata": {},
   "outputs": [],
   "source": [
    "import matplotlib.pyplot as plt\n",
    "import numpy as np\n",
    "import pandas as pd\n",
    "\n",
    "import math"
   ]
  },
  {
   "cell_type": "markdown",
   "metadata": {},
   "source": [
    "Let's set a variable for the total number of numbers available, and build a way to compare them."
   ]
  },
  {
   "cell_type": "code",
   "execution_count": 2,
   "metadata": {},
   "outputs": [
    {
     "data": {
      "text/plain": [
       "10000000"
      ]
     },
     "execution_count": 2,
     "metadata": {},
     "output_type": "execute_result"
    }
   ],
   "source": [
    "tot=10**7\n",
    "tot"
   ]
  },
  {
   "cell_type": "code",
   "execution_count": 3,
   "metadata": {},
   "outputs": [
    {
     "name": "stdout",
     "output_type": "stream",
     "text": [
      "123 131 False\n",
      "123 132 True\n"
     ]
    }
   ],
   "source": [
    "def sortphone(n):\n",
    "    return ''.join(sorted(\"%07d\" % n))\n",
    "\n",
    "def cmp(a, b):\n",
    "    sa=sortphone(a)\n",
    "    sb=sortphone(b)\n",
    "    return(sa == sb)\n",
    "\n",
    "print(123, 131, cmp(123, 131))\n",
    "print(123, 132, cmp(123, 132))"
   ]
  },
  {
   "cell_type": "markdown",
   "metadata": {},
   "source": [
    "Let's build an array of all numbers from \"000-0000\" to \"999-9999\", and sort them by digit so that we can use array methods to count the number of permutations of a given number."
   ]
  },
  {
   "cell_type": "code",
   "execution_count": 5,
   "metadata": {},
   "outputs": [
    {
     "data": {
      "text/plain": [
       "array(['0000000', '0000001', '0000002', ..., '7999999', '8999999',\n",
       "       '9999999'], dtype='<U7')"
      ]
     },
     "execution_count": 5,
     "metadata": {},
     "output_type": "execute_result"
    }
   ],
   "source": [
    "SX=np.fromiter((sortphone(x) for x in np.arange(tot)), np.dtype('U7'), count=tot)\n",
    "SX"
   ]
  },
  {
   "cell_type": "code",
   "execution_count": 6,
   "metadata": {},
   "outputs": [],
   "source": [
    "def count(a):\n",
    "    sa=sortphone(a)\n",
    "    return len(SX[SX==sa])"
   ]
  },
  {
   "cell_type": "markdown",
   "metadata": {},
   "source": [
    "We can use this to count the number of duplicates of a number. If all seven digits of your number different, there are a lot of permutations, and the probability that others have your number is the highest (subtracting 1 from both  the numerator and denominator since your number is removed from the list), approximately ~0.0005039."
   ]
  },
  {
   "cell_type": "code",
   "execution_count": 7,
   "metadata": {},
   "outputs": [
    {
     "data": {
      "text/plain": [
       "0.000503900050390005"
      ]
     },
     "execution_count": 7,
     "metadata": {},
     "output_type": "execute_result"
    }
   ],
   "source": [
    "(count(1234567)-1)/(tot-1)    # subtract one since I have this one!"
   ]
  },
  {
   "cell_type": "markdown",
   "metadata": {},
   "source": [
    "Conversely, if all seven digits of your number are identical, *no one* has a permutation of your number, and your probability is 0:"
   ]
  },
  {
   "cell_type": "code",
   "execution_count": 8,
   "metadata": {},
   "outputs": [
    {
     "data": {
      "text/plain": [
       "0.0"
      ]
     },
     "execution_count": 8,
     "metadata": {},
     "output_type": "execute_result"
    }
   ],
   "source": [
    "(count(2222222)-1)/(tot-1)"
   ]
  },
  {
   "cell_type": "markdown",
   "metadata": {},
   "source": [
    "In general, for a given number I can count (a) how many digits appear more than one, and (b) count the number of time each digit appears more than once. I define $d = \\{d_1, d_2, ... d_m\\}$, where $d_1$ is the number of times the first replicated digit appears, $d_2$ is the number of times the second replicated digit appears, and so on. \n",
    "\n",
    "For example, \"445-5566\" would produce $d = \\{2, 3, 2\\}$. If there are no replicated digits, as for \"222-2222\", $d$ is the empty set.\n",
    "\n",
    "For a given number with a duplicate pattern of $d$, the number of permutations is given by.\n",
    "\n",
    "$$ n_{P}(d) = \\frac{ {}^{7}\\!P_{7} }{ \\prod^{m}_{i=1}{d_i!} } = \\frac{ 7! }{ \\prod^{m}_{i=1}{d_i!} } $$\n",
    "\n",
    "When all digits are identical, $n_P(\\{7\\}) = 1$. When all digits are identical, $n_P(\\{ \\}) = 5040$. Note that the order of the values of $d$ do not affect the value of $n_P$, so we can sort the values of $d$ and get the same results.\n",
    "\n",
    "We can count the number of replicated digits for all numbers from 000-0000 to 999-9999, and group them by (sorted) $d$. This is kind of the brute-force method, so forgive the inelegance."
   ]
  },
  {
   "cell_type": "code",
   "execution_count": 9,
   "metadata": {},
   "outputs": [
    {
     "data": {
      "text/plain": [
       "(2, 2, 3)"
      ]
     },
     "execution_count": 9,
     "metadata": {},
     "output_type": "execute_result"
    }
   ],
   "source": [
    "memo={}\n",
    "def count_dups_in_num(s):\n",
    "    \"\"\"Determine the (sorted) pattern of replicated numbers in a given number.\n",
    "        For example, \"4455566\" would produce (2,2,3), because there are 2\n",
    "        digits that appear twice ('4' and '6'), and 1 digit that appears\n",
    "        thrice ('5'). Memoized for performance.\n",
    "    \"\"\"\n",
    "    if s in memo:\n",
    "        return memo[s]\n",
    "    d=dict()\n",
    "    for c in s:\n",
    "        if c not in d:\n",
    "            d[c]=0\n",
    "        d[c]+=1\n",
    "    t=list()\n",
    "    for k, v in d.items():\n",
    "        if v > 1:\n",
    "            t.append(v)\n",
    "    ret=tuple(sorted(t))\n",
    "    memo[s]=ret\n",
    "    return ret\n",
    "\n",
    "count_dups_in_num(\"4455566\")"
   ]
  },
  {
   "cell_type": "code",
   "execution_count": 10,
   "metadata": {},
   "outputs": [],
   "source": [
    "def count_all_dup_patterns(sx):\n",
    "    \"\"\"Apply count_dups_in_num() to every entry\"\"\"\n",
    "    d={\"pattern\": [], \"count\": []}\n",
    "    count={}\n",
    "    for s in SX:\n",
    "        dups=count_dups_in_num(s)\n",
    "        if dups not in count:\n",
    "            count[dups]=0\n",
    "        count[dups]+=1\n",
    "    for k, v in count.items():\n",
    "        d[\"pattern\"].append(k)\n",
    "        d[\"count\"].append(v)\n",
    "    return pd.DataFrame(d)\n",
    "\n",
    "df=count_all_dup_patterns(SX)"
   ]
  },
  {
   "cell_type": "markdown",
   "metadata": {},
   "source": [
    "So only $10$ out of $10^7$ numbers have $7$ identical digits (e.g. \"111-1111\", \"222-2222\"). Conversely, $604800$ numbers out of $10^7$ have $7$ unique digits."
   ]
  },
  {
   "cell_type": "code",
   "execution_count": 11,
   "metadata": {},
   "outputs": [
    {
     "data": {
      "text/html": [
       "<div>\n",
       "<style scoped>\n",
       "    .dataframe tbody tr th:only-of-type {\n",
       "        vertical-align: middle;\n",
       "    }\n",
       "\n",
       "    .dataframe tbody tr th {\n",
       "        vertical-align: top;\n",
       "    }\n",
       "\n",
       "    .dataframe thead th {\n",
       "        text-align: right;\n",
       "    }\n",
       "</style>\n",
       "<table border=\"1\" class=\"dataframe\">\n",
       "  <thead>\n",
       "    <tr style=\"text-align: right;\">\n",
       "      <th></th>\n",
       "      <th>pattern</th>\n",
       "      <th>count</th>\n",
       "    </tr>\n",
       "  </thead>\n",
       "  <tbody>\n",
       "    <tr>\n",
       "      <th>0</th>\n",
       "      <td>(7,)</td>\n",
       "      <td>10</td>\n",
       "    </tr>\n",
       "    <tr>\n",
       "      <th>1</th>\n",
       "      <td>(6,)</td>\n",
       "      <td>630</td>\n",
       "    </tr>\n",
       "    <tr>\n",
       "      <th>2</th>\n",
       "      <td>(2, 5)</td>\n",
       "      <td>1890</td>\n",
       "    </tr>\n",
       "    <tr>\n",
       "      <th>3</th>\n",
       "      <td>(5,)</td>\n",
       "      <td>15120</td>\n",
       "    </tr>\n",
       "    <tr>\n",
       "      <th>4</th>\n",
       "      <td>(3, 4)</td>\n",
       "      <td>3150</td>\n",
       "    </tr>\n",
       "    <tr>\n",
       "      <th>5</th>\n",
       "      <td>(2, 4)</td>\n",
       "      <td>75600</td>\n",
       "    </tr>\n",
       "    <tr>\n",
       "      <th>6</th>\n",
       "      <td>(4,)</td>\n",
       "      <td>176400</td>\n",
       "    </tr>\n",
       "    <tr>\n",
       "      <th>7</th>\n",
       "      <td>(3, 3)</td>\n",
       "      <td>50400</td>\n",
       "    </tr>\n",
       "    <tr>\n",
       "      <th>8</th>\n",
       "      <td>(2, 2, 3)</td>\n",
       "      <td>75600</td>\n",
       "    </tr>\n",
       "    <tr>\n",
       "      <th>9</th>\n",
       "      <td>(2, 3)</td>\n",
       "      <td>1058400</td>\n",
       "    </tr>\n",
       "    <tr>\n",
       "      <th>10</th>\n",
       "      <td>(3,)</td>\n",
       "      <td>1058400</td>\n",
       "    </tr>\n",
       "    <tr>\n",
       "      <th>11</th>\n",
       "      <td>(2, 2, 2)</td>\n",
       "      <td>529200</td>\n",
       "    </tr>\n",
       "    <tr>\n",
       "      <th>12</th>\n",
       "      <td>(2, 2)</td>\n",
       "      <td>3175200</td>\n",
       "    </tr>\n",
       "    <tr>\n",
       "      <th>13</th>\n",
       "      <td>(2,)</td>\n",
       "      <td>3175200</td>\n",
       "    </tr>\n",
       "    <tr>\n",
       "      <th>14</th>\n",
       "      <td>()</td>\n",
       "      <td>604800</td>\n",
       "    </tr>\n",
       "  </tbody>\n",
       "</table>\n",
       "</div>"
      ],
      "text/plain": [
       "      pattern    count\n",
       "0        (7,)       10\n",
       "1        (6,)      630\n",
       "2      (2, 5)     1890\n",
       "3        (5,)    15120\n",
       "4      (3, 4)     3150\n",
       "5      (2, 4)    75600\n",
       "6        (4,)   176400\n",
       "7      (3, 3)    50400\n",
       "8   (2, 2, 3)    75600\n",
       "9      (2, 3)  1058400\n",
       "10       (3,)  1058400\n",
       "11  (2, 2, 2)   529200\n",
       "12     (2, 2)  3175200\n",
       "13       (2,)  3175200\n",
       "14         ()   604800"
      ]
     },
     "execution_count": 11,
     "metadata": {},
     "output_type": "execute_result"
    }
   ],
   "source": [
    "df"
   ]
  },
  {
   "cell_type": "markdown",
   "metadata": {},
   "source": [
    "For each duplicate pattern $d$, we can calculate the number of permutations ($n_P$) for each number in that set:"
   ]
  },
  {
   "cell_type": "code",
   "execution_count": 12,
   "metadata": {},
   "outputs": [],
   "source": [
    "def permute_pattern(pat, n):\n",
    "    num=math.factorial(n)\n",
    "    den=1\n",
    "    for p in pat:\n",
    "        den*=math.factorial(p)\n",
    "    return num//den\n",
    "v_permute_pattern=np.vectorize(permute_pattern)\n",
    "\n",
    "df[\"dups_of_number\"]=v_permute_pattern(df[\"pattern\"], 7)"
   ]
  },
  {
   "cell_type": "code",
   "execution_count": 13,
   "metadata": {},
   "outputs": [],
   "source": [
    "df[\"prob_of_dup\"]=(df[\"dups_of_number\"]-1)/(tot-1)"
   ]
  },
  {
   "cell_type": "code",
   "execution_count": 14,
   "metadata": {},
   "outputs": [
    {
     "data": {
      "text/html": [
       "<div>\n",
       "<style scoped>\n",
       "    .dataframe tbody tr th:only-of-type {\n",
       "        vertical-align: middle;\n",
       "    }\n",
       "\n",
       "    .dataframe tbody tr th {\n",
       "        vertical-align: top;\n",
       "    }\n",
       "\n",
       "    .dataframe thead th {\n",
       "        text-align: right;\n",
       "    }\n",
       "</style>\n",
       "<table border=\"1\" class=\"dataframe\">\n",
       "  <thead>\n",
       "    <tr style=\"text-align: right;\">\n",
       "      <th></th>\n",
       "      <th>pattern</th>\n",
       "      <th>count</th>\n",
       "      <th>dups_of_number</th>\n",
       "      <th>prob_of_dup</th>\n",
       "    </tr>\n",
       "  </thead>\n",
       "  <tbody>\n",
       "    <tr>\n",
       "      <th>0</th>\n",
       "      <td>(7,)</td>\n",
       "      <td>10</td>\n",
       "      <td>1</td>\n",
       "      <td>0.000000e+00</td>\n",
       "    </tr>\n",
       "    <tr>\n",
       "      <th>1</th>\n",
       "      <td>(6,)</td>\n",
       "      <td>630</td>\n",
       "      <td>7</td>\n",
       "      <td>6.000001e-07</td>\n",
       "    </tr>\n",
       "    <tr>\n",
       "      <th>2</th>\n",
       "      <td>(2, 5)</td>\n",
       "      <td>1890</td>\n",
       "      <td>21</td>\n",
       "      <td>2.000000e-06</td>\n",
       "    </tr>\n",
       "    <tr>\n",
       "      <th>3</th>\n",
       "      <td>(5,)</td>\n",
       "      <td>15120</td>\n",
       "      <td>42</td>\n",
       "      <td>4.100000e-06</td>\n",
       "    </tr>\n",
       "    <tr>\n",
       "      <th>4</th>\n",
       "      <td>(3, 4)</td>\n",
       "      <td>3150</td>\n",
       "      <td>35</td>\n",
       "      <td>3.400000e-06</td>\n",
       "    </tr>\n",
       "    <tr>\n",
       "      <th>5</th>\n",
       "      <td>(2, 4)</td>\n",
       "      <td>75600</td>\n",
       "      <td>105</td>\n",
       "      <td>1.040000e-05</td>\n",
       "    </tr>\n",
       "    <tr>\n",
       "      <th>6</th>\n",
       "      <td>(4,)</td>\n",
       "      <td>176400</td>\n",
       "      <td>210</td>\n",
       "      <td>2.090000e-05</td>\n",
       "    </tr>\n",
       "    <tr>\n",
       "      <th>7</th>\n",
       "      <td>(3, 3)</td>\n",
       "      <td>50400</td>\n",
       "      <td>140</td>\n",
       "      <td>1.390000e-05</td>\n",
       "    </tr>\n",
       "    <tr>\n",
       "      <th>8</th>\n",
       "      <td>(2, 2, 3)</td>\n",
       "      <td>75600</td>\n",
       "      <td>210</td>\n",
       "      <td>2.090000e-05</td>\n",
       "    </tr>\n",
       "    <tr>\n",
       "      <th>9</th>\n",
       "      <td>(2, 3)</td>\n",
       "      <td>1058400</td>\n",
       "      <td>420</td>\n",
       "      <td>4.190000e-05</td>\n",
       "    </tr>\n",
       "    <tr>\n",
       "      <th>10</th>\n",
       "      <td>(3,)</td>\n",
       "      <td>1058400</td>\n",
       "      <td>840</td>\n",
       "      <td>8.390001e-05</td>\n",
       "    </tr>\n",
       "    <tr>\n",
       "      <th>11</th>\n",
       "      <td>(2, 2, 2)</td>\n",
       "      <td>529200</td>\n",
       "      <td>630</td>\n",
       "      <td>6.290001e-05</td>\n",
       "    </tr>\n",
       "    <tr>\n",
       "      <th>12</th>\n",
       "      <td>(2, 2)</td>\n",
       "      <td>3175200</td>\n",
       "      <td>1260</td>\n",
       "      <td>1.259000e-04</td>\n",
       "    </tr>\n",
       "    <tr>\n",
       "      <th>13</th>\n",
       "      <td>(2,)</td>\n",
       "      <td>3175200</td>\n",
       "      <td>2520</td>\n",
       "      <td>2.519000e-04</td>\n",
       "    </tr>\n",
       "    <tr>\n",
       "      <th>14</th>\n",
       "      <td>()</td>\n",
       "      <td>604800</td>\n",
       "      <td>5040</td>\n",
       "      <td>5.039001e-04</td>\n",
       "    </tr>\n",
       "  </tbody>\n",
       "</table>\n",
       "</div>"
      ],
      "text/plain": [
       "      pattern    count  dups_of_number   prob_of_dup\n",
       "0        (7,)       10               1  0.000000e+00\n",
       "1        (6,)      630               7  6.000001e-07\n",
       "2      (2, 5)     1890              21  2.000000e-06\n",
       "3        (5,)    15120              42  4.100000e-06\n",
       "4      (3, 4)     3150              35  3.400000e-06\n",
       "5      (2, 4)    75600             105  1.040000e-05\n",
       "6        (4,)   176400             210  2.090000e-05\n",
       "7      (3, 3)    50400             140  1.390000e-05\n",
       "8   (2, 2, 3)    75600             210  2.090000e-05\n",
       "9      (2, 3)  1058400             420  4.190000e-05\n",
       "10       (3,)  1058400             840  8.390001e-05\n",
       "11  (2, 2, 2)   529200             630  6.290001e-05\n",
       "12     (2, 2)  3175200            1260  1.259000e-04\n",
       "13       (2,)  3175200            2520  2.519000e-04\n",
       "14         ()   604800            5040  5.039001e-04"
      ]
     },
     "execution_count": 14,
     "metadata": {},
     "output_type": "execute_result"
    }
   ],
   "source": [
    "df"
   ]
  },
  {
   "cell_type": "markdown",
   "metadata": {},
   "source": [
    "From here it's pretty easy to calculate the average of the probability of duplicate numbers weighted by the probability (or frequency) that your number contains a particular number of duplicates. "
   ]
  },
  {
   "cell_type": "code",
   "execution_count": 15,
   "metadata": {},
   "outputs": [
    {
     "data": {
      "text/plain": [
       "0.0001677613307761331"
      ]
     },
     "execution_count": 15,
     "metadata": {},
     "output_type": "execute_result"
    }
   ],
   "source": [
    "sum(df[\"prob_of_dup\"]*df[\"count\"])/tot"
   ]
  },
  {
   "cell_type": "code",
   "execution_count": null,
   "metadata": {},
   "outputs": [],
   "source": []
  }
 ],
 "metadata": {
  "kernelspec": {
   "display_name": "Python 3",
   "language": "python",
   "name": "python3"
  },
  "language_info": {
   "codemirror_mode": {
    "name": "ipython",
    "version": 3
   },
   "file_extension": ".py",
   "mimetype": "text/x-python",
   "name": "python",
   "nbconvert_exporter": "python",
   "pygments_lexer": "ipython3",
   "version": "3.7.3"
  }
 },
 "nbformat": 4,
 "nbformat_minor": 2
}
