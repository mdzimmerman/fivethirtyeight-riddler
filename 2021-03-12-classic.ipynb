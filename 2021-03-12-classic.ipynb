{
 "cells": [
  {
   "cell_type": "markdown",
   "metadata": {},
   "source": [
    "Formulas for surface area of crust side, crust base, and volume of pie as a function of the radius of the crust base $r$ and the height of the sides of the pie $h$:\n",
    "\n",
    "$A_{side} = 2 \\pi r h$\n",
    "\n",
    "$A_{base} = \\pi r^2$\n",
    "\n",
    "$V = \\pi r^2 h$\n",
    "\n",
    "Let's arbitrarily set the total area of the crust as 1 (square foot):\n",
    "\n",
    "$A_{base} + A_{side} = 1$\n",
    "\n",
    "We can now solve for the value of $r$ as a function of $h$:\n",
    "\n",
    "$\\pi r^2 + 2 \\pi h r - 1 = 0$\n",
    "\n",
    "$r = \\frac{-2 \\pi h + \\sqrt{4 \\pi^2 h^2 + 4 \\pi}}{2 \\pi}$\n",
    "\n",
    "(We use the positive root in the quadratic equation, as it's the only one that yields a positive radius.) We could at this point do a bunch of painful calculus to find the value of $h$ that maximizes $V$, but why do that when we can just solve numerically?"
   ]
  },
  {
   "cell_type": "code",
   "execution_count": 1,
   "metadata": {},
   "outputs": [],
   "source": [
    "import numpy as np\n",
    "import matplotlib.pyplot as plt\n",
    "import math\n",
    "from scipy import optimize"
   ]
  },
  {
   "cell_type": "code",
   "execution_count": 2,
   "metadata": {},
   "outputs": [],
   "source": [
    "def r(h):\n",
    "    h2 = h*h\n",
    "    return (-2 * math.pi * h + np.sqrt(4 * math.pi**2 * h2 + 4 * math.pi)) / (2 * math.pi)\n",
    "\n",
    "def Abase(h):\n",
    "    rh = r(h)\n",
    "    return math.pi * rh * rh\n",
    "    \n",
    "def Aside(h):\n",
    "    return 2 * math.pi * r(h) * h\n",
    "    \n",
    "def V(h):\n",
    "    rh = r(h)\n",
    "    return math.pi * rh * rh * h"
   ]
  },
  {
   "cell_type": "code",
   "execution_count": 3,
   "metadata": {},
   "outputs": [
    {
     "data": {
      "image/png": "[encoded data removed]",
      "text/plain": [
       "<Figure size 432x288 with 2 Axes>"
      ]
     },
     "metadata": {
      "needs_background": "light"
     },
     "output_type": "display_data"
    }
   ],
   "source": [
    "h = np.arange(0, 1.5, 0.01)\n",
    "\n",
    "fig, axs = plt.subplots(2)\n",
    "axs[0].set_ylabel(\"V\")\n",
    "axs[0].plot(h, V(h), label=\"V\")\n",
    "axs[1].plot(h, Abase(h), label=\"A_{base}\")\n",
    "axs[1].plot(h, Aside(h), label=\"A_{side}\")\n",
    "axs[1].set_ylabel(\"A\")\n",
    "axs[1].set_xlabel(\"h\")\n",
    "\n",
    "plt.show()"
   ]
  },
  {
   "cell_type": "code",
   "execution_count": 4,
   "metadata": {},
   "outputs": [
    {
     "name": "stdout",
     "output_type": "stream",
     "text": [
      "Optimization terminated successfully.\n",
      "         Current function value: -0.108578\n",
      "         Iterations: 10\n",
      "         Function evaluations: 20\n"
     ]
    }
   ],
   "source": [
    "hmax = optimize.fmin(lambda h: -V(h), 0.3)[0]"
   ]
  },
  {
   "cell_type": "code",
   "execution_count": 5,
   "metadata": {},
   "outputs": [
    {
     "name": "stdout",
     "output_type": "stream",
     "text": [
      "At max volume:\n",
      "  h     = 0.3257 ft   = 3.9087 in\n",
      "  r     = 0.3257 ft   = 3.9089 in\n",
      "  Abase = 0.3333 ft^2 = 48.0018 in^2\n",
      "  Aside = 0.6667 ft^2 = 95.9982 in^2\n",
      "  V     = 0.1086 ft^3 = 187.6234 in^3\n"
     ]
    }
   ],
   "source": [
    "rmax = r(hmax)\n",
    "Ab_max = Abase(hmax)\n",
    "As_max = Aside(hmax)\n",
    "Vmax = V(hmax)\n",
    "print(\"At max volume:\")\n",
    "print(\"  h     = {0:.4f} ft   = {1:.4f} in\".format(hmax, hmax * 12))\n",
    "print(\"  r     = {0:.4f} ft   = {1:.4f} in\".format(rmax, rmax * 12))\n",
    "print(\"  Abase = {0:.4f} ft^2 = {1:.4f} in^2\".format(Ab_max, Ab_max * 144))\n",
    "print(\"  Aside = {0:.4f} ft^2 = {1:.4f} in^2\".format(As_max, As_max * 144))\n",
    "print(\"  V     = {0:.4f} ft^3 = {1:.4f} in^3\".format(Vmax, Vmax * 144 * 12))"
   ]
  },
  {
   "cell_type": "code",
   "execution_count": 6,
   "metadata": {},
   "outputs": [
    {
     "data": {
      "text/plain": [
       "0.3333459734423325"
      ]
     },
     "execution_count": 6,
     "metadata": {},
     "output_type": "execute_result"
    }
   ],
   "source": [
    "Abase(hmax)"
   ]
  },
  {
   "cell_type": "markdown",
   "metadata": {},
   "source": [
    "What if we write $h$ in terms of $r$?\n",
    "\n",
    "$\\pi r^2 + 2 \\pi h r = 1$\n",
    "\n",
    "$2 \\pi h r = 1 - \\pi r^2$\n",
    "\n",
    "$h = \\frac{1 - \\pi r^2}{2 \\pi r}$\n",
    "\n",
    "$h = \\frac{1}{2 \\pi r} - \\frac{r}{2}$\n",
    "\n",
    "Substituting into the expression for $V$:\n",
    "\n",
    "$V = 2 \\pi r^2 h$\n",
    "\n",
    "$V = 2 \\pi r^2 (\\frac{1}{2 \\pi r} - \\frac{r}{2})$\n",
    "\n",
    "$V = r - \\pi r^3$\n",
    "\n",
    "We can find the value of $r$ that maximizes $V$ by taking the derivative and setting to 0:\n",
    "\n",
    "$\\frac{d V}{d r} = 1 - 3 \\pi r_{max}^2 = 0$\n",
    "\n",
    "$3 \\pi r_{max}^2 = 1$\n",
    "\n",
    "$r_{max} = \\sqrt{\\frac{1}{3 \\pi}}$\n",
    "\n",
    "This allows us to calculate the solution numerically:\n",
    "\n",
    "$A_{base}(r_{max}) = \\pi (\\sqrt{\\frac{1}{3 \\pi}})^2 = \\frac{1}{3}$"
   ]
  },
  {
   "cell_type": "code",
   "execution_count": 7,
   "metadata": {},
   "outputs": [
    {
     "data": {
      "text/plain": [
       "array([0. , 0.1, 0.2, 0.3, 0.4, 0.5, 0.6, 0.7, 0.8, 0.9, 1. , 1.1, 1.2,\n",
       "       1.3, 1.4, 1.5, 1.6, 1.7, 1.8, 1.9, 2. , 2.1, 2.2, 2.3, 2.4, 2.5,\n",
       "       2.6, 2.7, 2.8, 2.9, 3. , 3.1, 3.2, 3.3, 3.4, 3.5, 3.6, 3.7, 3.8,\n",
       "       3.9, 4. , 4.1, 4.2, 4.3, 4.4, 4.5, 4.6, 4.7, 4.8, 4.9, 5. , 5.1,\n",
       "       5.2, 5.3, 5.4, 5.5, 5.6, 5.7, 5.8, 5.9, 6. , 6.1, 6.2, 6.3, 6.4,\n",
       "       6.5, 6.6, 6.7, 6.8, 6.9, 7. , 7.1, 7.2, 7.3, 7.4, 7.5, 7.6, 7.7,\n",
       "       7.8, 7.9, 8. , 8.1, 8.2, 8.3, 8.4, 8.5, 8.6, 8.7, 8.8, 8.9, 9. ,\n",
       "       9.1, 9.2, 9.3, 9.4, 9.5, 9.6, 9.7, 9.8, 9.9])"
      ]
     },
     "execution_count": 7,
     "metadata": {},
     "output_type": "execute_result"
    }
   ],
   "source": [
    "np.arange(0, 10, 0.1)"
   ]
  },
  {
   "cell_type": "code",
   "execution_count": null,
   "metadata": {},
   "outputs": [],
   "source": [
    "np.arange"
   ]
  }
 ],
 "metadata": {
  "kernelspec": {
   "display_name": "Python 3",
   "language": "python",
   "name": "python3"
  },
  "language_info": {
   "codemirror_mode": {
    "name": "ipython",
    "version": 3
   },
   "file_extension": ".py",
   "mimetype": "text/x-python",
   "name": "python",
   "nbconvert_exporter": "python",
   "pygments_lexer": "ipython3",
   "version": "3.8.8"
  }
 },
 "nbformat": 4,
 "nbformat_minor": 2
}
