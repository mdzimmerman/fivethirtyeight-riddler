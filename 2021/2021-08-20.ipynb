{
 "cells": [
  {
   "cell_type": "code",
   "execution_count": 2,
   "id": "fatty-constraint",
   "metadata": {},
   "outputs": [],
   "source": [
    "import math\n",
    "import matplotlib.pyplot as plt\n",
    "import numpy as np\n",
    "import pandas as pd\n",
    "import random\n",
    "import seaborn as sns"
   ]
  },
  {
   "cell_type": "markdown",
   "id": "lasting-cache",
   "metadata": {},
   "source": [
    "# Express\n",
    "Help, there’s a cricket on my floor! I want to trap it with a cup so that I can safely move it outside. But every time I get close, it hops exactly 1 foot in a random direction.\n",
    "\n",
    "I take note of its starting position and come closer. Boom — it hops in a random direction. I get close again. Boom — it takes another hop in a random direction, independent of the direction of the first hop.\n",
    "\n",
    "What is the most probable distance between the cricket’s current position after two random jumps and its starting position? (Note: This puzzle is not asking for the expected distance, but rather the most probable distance. In other words, if you consider the probability distribution over all possible distances, where is the peak of this distribution?)"
   ]
  },
  {
   "cell_type": "code",
   "execution_count": 7,
   "id": "arctic-yesterday",
   "metadata": {},
   "outputs": [
    {
     "data": {
      "text/html": [
       "<div>\n",
       "<style scoped>\n",
       "    .dataframe tbody tr th:only-of-type {\n",
       "        vertical-align: middle;\n",
       "    }\n",
       "\n",
       "    .dataframe tbody tr th {\n",
       "        vertical-align: top;\n",
       "    }\n",
       "\n",
       "    .dataframe thead th {\n",
       "        text-align: right;\n",
       "    }\n",
       "</style>\n",
       "<table border=\"1\" class=\"dataframe\">\n",
       "  <thead>\n",
       "    <tr style=\"text-align: right;\">\n",
       "      <th></th>\n",
       "      <th>r1</th>\n",
       "      <th>r2</th>\n",
       "    </tr>\n",
       "  </thead>\n",
       "  <tbody>\n",
       "    <tr>\n",
       "      <th>0</th>\n",
       "      <td>0.000000</td>\n",
       "      <td>0.000000</td>\n",
       "    </tr>\n",
       "    <tr>\n",
       "      <th>1</th>\n",
       "      <td>0.000000</td>\n",
       "      <td>0.017453</td>\n",
       "    </tr>\n",
       "    <tr>\n",
       "      <th>2</th>\n",
       "      <td>0.000000</td>\n",
       "      <td>0.034907</td>\n",
       "    </tr>\n",
       "    <tr>\n",
       "      <th>3</th>\n",
       "      <td>0.000000</td>\n",
       "      <td>0.052360</td>\n",
       "    </tr>\n",
       "    <tr>\n",
       "      <th>4</th>\n",
       "      <td>0.000000</td>\n",
       "      <td>0.069813</td>\n",
       "    </tr>\n",
       "    <tr>\n",
       "      <th>...</th>\n",
       "      <td>...</td>\n",
       "      <td>...</td>\n",
       "    </tr>\n",
       "    <tr>\n",
       "      <th>129595</th>\n",
       "      <td>6.265732</td>\n",
       "      <td>6.195919</td>\n",
       "    </tr>\n",
       "    <tr>\n",
       "      <th>129596</th>\n",
       "      <td>6.265732</td>\n",
       "      <td>6.213372</td>\n",
       "    </tr>\n",
       "    <tr>\n",
       "      <th>129597</th>\n",
       "      <td>6.265732</td>\n",
       "      <td>6.230825</td>\n",
       "    </tr>\n",
       "    <tr>\n",
       "      <th>129598</th>\n",
       "      <td>6.265732</td>\n",
       "      <td>6.248279</td>\n",
       "    </tr>\n",
       "    <tr>\n",
       "      <th>129599</th>\n",
       "      <td>6.265732</td>\n",
       "      <td>6.265732</td>\n",
       "    </tr>\n",
       "  </tbody>\n",
       "</table>\n",
       "<p>129600 rows × 2 columns</p>\n",
       "</div>"
      ],
      "text/plain": [
       "              r1        r2\n",
       "0       0.000000  0.000000\n",
       "1       0.000000  0.017453\n",
       "2       0.000000  0.034907\n",
       "3       0.000000  0.052360\n",
       "4       0.000000  0.069813\n",
       "...          ...       ...\n",
       "129595  6.265732  6.195919\n",
       "129596  6.265732  6.213372\n",
       "129597  6.265732  6.230825\n",
       "129598  6.265732  6.248279\n",
       "129599  6.265732  6.265732\n",
       "\n",
       "[129600 rows x 2 columns]"
      ]
     },
     "execution_count": 7,
     "metadata": {},
     "output_type": "execute_result"
    }
   ],
   "source": [
    "d=[]\n",
    "\n",
    "for d1 in range(0, 360):\n",
    "    r1=math.radians(d1)\n",
    "    for d2 in range(0, 360):\n",
    "        r2=math.radians(d2)\n",
    "        d.append((r1, r2))\n",
    "        \n",
    "df=pd.DataFrame(d, columns=(\"r1\", \"r2\"))\n",
    "df"
   ]
  },
  {
   "cell_type": "code",
   "execution_count": 17,
   "id": "rental-documentary",
   "metadata": {},
   "outputs": [],
   "source": [
    "df['dis']=np.sqrt(np.square(np.cos(df['r1'])+np.cos(df['r2'])) + np.square(np.sin(df['r1'])+np.sin(df['r2'])))"
   ]
  },
  {
   "cell_type": "code",
   "execution_count": 35,
   "id": "soviet-offering",
   "metadata": {},
   "outputs": [
    {
     "data": {
      "text/html": [
       "<div>\n",
       "<style scoped>\n",
       "    .dataframe tbody tr th:only-of-type {\n",
       "        vertical-align: middle;\n",
       "    }\n",
       "\n",
       "    .dataframe tbody tr th {\n",
       "        vertical-align: top;\n",
       "    }\n",
       "\n",
       "    .dataframe thead th {\n",
       "        text-align: right;\n",
       "    }\n",
       "</style>\n",
       "<table border=\"1\" class=\"dataframe\">\n",
       "  <thead>\n",
       "    <tr style=\"text-align: right;\">\n",
       "      <th></th>\n",
       "      <th>r1</th>\n",
       "      <th>r2</th>\n",
       "      <th>dis</th>\n",
       "    </tr>\n",
       "  </thead>\n",
       "  <tbody>\n",
       "    <tr>\n",
       "      <th>0</th>\n",
       "      <td>0.0</td>\n",
       "      <td>0.000000</td>\n",
       "      <td>2.000000</td>\n",
       "    </tr>\n",
       "    <tr>\n",
       "      <th>1</th>\n",
       "      <td>0.0</td>\n",
       "      <td>0.017453</td>\n",
       "      <td>1.999924</td>\n",
       "    </tr>\n",
       "    <tr>\n",
       "      <th>2</th>\n",
       "      <td>0.0</td>\n",
       "      <td>0.034907</td>\n",
       "      <td>1.999695</td>\n",
       "    </tr>\n",
       "    <tr>\n",
       "      <th>3</th>\n",
       "      <td>0.0</td>\n",
       "      <td>0.052360</td>\n",
       "      <td>1.999315</td>\n",
       "    </tr>\n",
       "    <tr>\n",
       "      <th>4</th>\n",
       "      <td>0.0</td>\n",
       "      <td>0.069813</td>\n",
       "      <td>1.998782</td>\n",
       "    </tr>\n",
       "    <tr>\n",
       "      <th>5</th>\n",
       "      <td>0.0</td>\n",
       "      <td>0.087266</td>\n",
       "      <td>1.998096</td>\n",
       "    </tr>\n",
       "    <tr>\n",
       "      <th>6</th>\n",
       "      <td>0.0</td>\n",
       "      <td>0.104720</td>\n",
       "      <td>1.997259</td>\n",
       "    </tr>\n",
       "    <tr>\n",
       "      <th>7</th>\n",
       "      <td>0.0</td>\n",
       "      <td>0.122173</td>\n",
       "      <td>1.996270</td>\n",
       "    </tr>\n",
       "    <tr>\n",
       "      <th>8</th>\n",
       "      <td>0.0</td>\n",
       "      <td>0.139626</td>\n",
       "      <td>1.995128</td>\n",
       "    </tr>\n",
       "    <tr>\n",
       "      <th>9</th>\n",
       "      <td>0.0</td>\n",
       "      <td>0.157080</td>\n",
       "      <td>1.993835</td>\n",
       "    </tr>\n",
       "  </tbody>\n",
       "</table>\n",
       "</div>"
      ],
      "text/plain": [
       "    r1        r2       dis\n",
       "0  0.0  0.000000  2.000000\n",
       "1  0.0  0.017453  1.999924\n",
       "2  0.0  0.034907  1.999695\n",
       "3  0.0  0.052360  1.999315\n",
       "4  0.0  0.069813  1.998782\n",
       "5  0.0  0.087266  1.998096\n",
       "6  0.0  0.104720  1.997259\n",
       "7  0.0  0.122173  1.996270\n",
       "8  0.0  0.139626  1.995128\n",
       "9  0.0  0.157080  1.993835"
      ]
     },
     "execution_count": 35,
     "metadata": {},
     "output_type": "execute_result"
    }
   ],
   "source": [
    "df[0:10]"
   ]
  },
  {
   "cell_type": "code",
   "execution_count": 20,
   "id": "shaped-strengthening",
   "metadata": {},
   "outputs": [
    {
     "data": {
      "text/plain": [
       "'0.11.1'"
      ]
     },
     "execution_count": 20,
     "metadata": {},
     "output_type": "execute_result"
    }
   ],
   "source": [
    "sns.__version__"
   ]
  },
  {
   "cell_type": "code",
   "execution_count": 23,
   "id": "polished-growth",
   "metadata": {},
   "outputs": [
    {
     "data": {
      "text/plain": [
       "<seaborn.axisgrid.FacetGrid at 0x7795978f40>"
      ]
     },
     "execution_count": 23,
     "metadata": {},
     "output_type": "execute_result"
    },
    {
     "data": {
      "image/png": "[encoded data removed]",
      "text/plain": [
       "<Figure size 360x360 with 1 Axes>"
      ]
     },
     "metadata": {
      "needs_background": "light"
     },
     "output_type": "display_data"
    }
   ],
   "source": [
    "sns.displot(df['dis'], kind='kde')"
   ]
  },
  {
   "cell_type": "code",
   "execution_count": 34,
   "id": "insured-culture",
   "metadata": {
    "scrolled": true
   },
   "outputs": [
    {
     "data": {
      "text/html": [
       "<div>\n",
       "<style scoped>\n",
       "    .dataframe tbody tr th:only-of-type {\n",
       "        vertical-align: middle;\n",
       "    }\n",
       "\n",
       "    .dataframe tbody tr th {\n",
       "        vertical-align: top;\n",
       "    }\n",
       "\n",
       "    .dataframe thead th {\n",
       "        text-align: right;\n",
       "    }\n",
       "</style>\n",
       "<table border=\"1\" class=\"dataframe\">\n",
       "  <thead>\n",
       "    <tr style=\"text-align: right;\">\n",
       "      <th></th>\n",
       "      <th>d</th>\n",
       "      <th>r</th>\n",
       "      <th>dist</th>\n",
       "    </tr>\n",
       "  </thead>\n",
       "  <tbody>\n",
       "    <tr>\n",
       "      <th>0</th>\n",
       "      <td>0.0</td>\n",
       "      <td>0.000000</td>\n",
       "      <td>2.000000</td>\n",
       "    </tr>\n",
       "    <tr>\n",
       "      <th>1</th>\n",
       "      <td>0.1</td>\n",
       "      <td>0.001745</td>\n",
       "      <td>1.999999</td>\n",
       "    </tr>\n",
       "    <tr>\n",
       "      <th>2</th>\n",
       "      <td>0.2</td>\n",
       "      <td>0.003491</td>\n",
       "      <td>1.999997</td>\n",
       "    </tr>\n",
       "    <tr>\n",
       "      <th>3</th>\n",
       "      <td>0.3</td>\n",
       "      <td>0.005236</td>\n",
       "      <td>1.999993</td>\n",
       "    </tr>\n",
       "    <tr>\n",
       "      <th>4</th>\n",
       "      <td>0.4</td>\n",
       "      <td>0.006981</td>\n",
       "      <td>1.999988</td>\n",
       "    </tr>\n",
       "    <tr>\n",
       "      <th>5</th>\n",
       "      <td>0.5</td>\n",
       "      <td>0.008727</td>\n",
       "      <td>1.999981</td>\n",
       "    </tr>\n",
       "    <tr>\n",
       "      <th>6</th>\n",
       "      <td>0.6</td>\n",
       "      <td>0.010472</td>\n",
       "      <td>1.999973</td>\n",
       "    </tr>\n",
       "    <tr>\n",
       "      <th>7</th>\n",
       "      <td>0.7</td>\n",
       "      <td>0.012217</td>\n",
       "      <td>1.999963</td>\n",
       "    </tr>\n",
       "    <tr>\n",
       "      <th>8</th>\n",
       "      <td>0.8</td>\n",
       "      <td>0.013963</td>\n",
       "      <td>1.999951</td>\n",
       "    </tr>\n",
       "    <tr>\n",
       "      <th>9</th>\n",
       "      <td>0.9</td>\n",
       "      <td>0.015708</td>\n",
       "      <td>1.999938</td>\n",
       "    </tr>\n",
       "  </tbody>\n",
       "</table>\n",
       "</div>"
      ],
      "text/plain": [
       "     d         r      dist\n",
       "0  0.0  0.000000  2.000000\n",
       "1  0.1  0.001745  1.999999\n",
       "2  0.2  0.003491  1.999997\n",
       "3  0.3  0.005236  1.999993\n",
       "4  0.4  0.006981  1.999988\n",
       "5  0.5  0.008727  1.999981\n",
       "6  0.6  0.010472  1.999973\n",
       "7  0.7  0.012217  1.999963\n",
       "8  0.8  0.013963  1.999951\n",
       "9  0.9  0.015708  1.999938"
      ]
     },
     "execution_count": 34,
     "metadata": {},
     "output_type": "execute_result"
    }
   ],
   "source": [
    "df2 = pd.DataFrame(data={\"d\": np.arange(0, 360, 0.1)})\n",
    "df2['r'] = df2['d'].apply(math.radians)\n",
    "df2['dist'] = np.sqrt(np.square(np.cos(df2['r'])+1)+np.square(np.sin(df2['r'])))\n",
    "df2[0:10]"
   ]
  },
  {
   "cell_type": "code",
   "execution_count": 33,
   "id": "wireless-india",
   "metadata": {},
   "outputs": [
    {
     "data": {
      "text/plain": [
       "<seaborn.axisgrid.FacetGrid at 0x77943c51f0>"
      ]
     },
     "execution_count": 33,
     "metadata": {},
     "output_type": "execute_result"
    },
    {
     "data": {
      "image/png": "[encoded data removed]",
      "text/plain": [
       "<Figure size 360x360 with 1 Axes>"
      ]
     },
     "metadata": {
      "needs_background": "light"
     },
     "output_type": "display_data"
    }
   ],
   "source": [
    "sns.displot(df2['dist'], kind='kde')"
   ]
  },
  {
   "cell_type": "markdown",
   "id": "alive-livestock",
   "metadata": {},
   "source": [
    "Define a random variable $X$ with the angle of the second hop, which is defined by:\n",
    "\n",
    "$X \\sim \\mathrm{Uniform}(0,2\\pi)$\n",
    "\n",
    "pdf: $f_X(x) = \\frac{1}{2\\pi}$\n",
    "\n",
    "cdf: $F_X(x) = P(X \\leq x) = \\frac{x}{2\\pi}$ on $[0, 2\\pi]$\n",
    "\n",
    "Then the distance from the start of the first hop to the end of the second is given by:\n",
    "\n",
    "$Y = \\sqrt{(\\cos{X}+1)^2 + (\\sin{X})^2} = \\sqrt{2\\cos{X}+ 2}$\n",
    "\n",
    "The range is $[0, 2]$. To calculate the cdf:\n",
    "\n",
    "$F_Y(y) = P(Y \\leq y) = P(\\sqrt{2\\cos{X} + 2} \\leq y)$\n",
    "\n",
    "$F_Y(y) = P(2\\cos{X} + 2 \\leq y^2) = P(X \\geq \\arccos{(\\frac{y^2}{2} - 1)})$\n",
    "\n",
    "$F_Y(y) = P(X \\leq \\pi - \\arccos{(\\frac{Y^2}{2} - 1)})$\n",
    "\n",
    "$F_Y(y) = 1 - \\frac{\\arccos{(\\frac{y^2}{2} - 1)}}{2\\pi}$\n",
    "\n",
    "Then differentiate to get the pdf:\n",
    "\n",
    "$f_Y(y) = \\frac{1}{2\\pi} \\frac{y}{\\sqrt{1 - (\\frac{y^2}{2} - 1)^2}}$"
   ]
  },
  {
   "cell_type": "code",
   "execution_count": 49,
   "id": "assigned-expense",
   "metadata": {
    "scrolled": true
   },
   "outputs": [
    {
     "data": {
      "text/plain": [
       "[<matplotlib.lines.Line2D at 0x77d71cef10>]"
      ]
     },
     "execution_count": 49,
     "metadata": {},
     "output_type": "execute_result"
    },
    {
     "data": {
      "image/png": "[encoded data removed]",
      "text/plain": [
       "<Figure size 432x288 with 1 Axes>"
      ]
     },
     "metadata": {
      "needs_background": "light"
     },
     "output_type": "display_data"
    }
   ],
   "source": [
    "yt=pd.DataFrame({'y': np.arange(0.01, 2, 0.01)})\n",
    "yt['cdf']=yt['y'].apply(lambda y: (2* math.pi - 2 * math.acos((y*y)/2 - 1)) / 2 / math.pi)\n",
    "yt['pdf']=yt['y'].apply(lambda y: y / math.sqrt(1 - ((y*y)/2 - 1)**2) / (math.pi))\n",
    "plt.plot(yt['y'], yt['cdf'])\n",
    "#plt.plot(yt['y'], yt['pdf'])"
   ]
  },
  {
   "cell_type": "code",
   "execution_count": null,
   "id": "loaded-german",
   "metadata": {},
   "outputs": [],
   "source": []
  }
 ],
 "metadata": {
  "kernelspec": {
   "display_name": "Python 3",
   "language": "python",
   "name": "python3"
  },
  "language_info": {
   "codemirror_mode": {
    "name": "ipython",
    "version": 3
   },
   "file_extension": ".py",
   "mimetype": "text/x-python",
   "name": "python",
   "nbconvert_exporter": "python",
   "pygments_lexer": "ipython3",
   "version": "3.8.8"
  }
 },
 "nbformat": 4,
 "nbformat_minor": 5
}
