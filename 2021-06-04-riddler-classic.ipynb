{
 "cells": [
  {
   "cell_type": "code",
   "execution_count": 2,
   "id": "blessed-directory",
   "metadata": {},
   "outputs": [],
   "source": [
    "from spellchecker import SpellChecker"
   ]
  },
  {
   "cell_type": "code",
   "execution_count": 3,
   "id": "regular-replication",
   "metadata": {},
   "outputs": [],
   "source": [
    "spell=SpellChecker()"
   ]
  },
  {
   "cell_type": "code",
   "execution_count": 4,
   "id": "trying-moral",
   "metadata": {},
   "outputs": [
    {
     "data": {
      "text/plain": [
       "['EFTY', 'CGIJLMNSUVWZ', 'RA', 'EFTY', 'HK', 'AR']"
      ]
     },
     "execution_count": 4,
     "metadata": {},
     "output_type": "execute_result"
    }
   ],
   "source": [
    "choices=[\n",
    "    \"EFTY\",\n",
    "    \"CGIJLMNSUVWZ\",\n",
    "    \"RA\",\n",
    "    \"EFTY\",\n",
    "    \"HK\",\n",
    "    \"AR\"\n",
    "]\n",
    "choices"
   ]
  },
  {
   "cell_type": "code",
   "execution_count": 11,
   "id": "outside-hydrogen",
   "metadata": {},
   "outputs": [],
   "source": [
    "def iterset(prefix, choices):\n",
    "    if len(choices) == 0:\n",
    "        word=prefix.lower()\n",
    "        if len(spell.known([word])) == 1:\n",
    "            print(word)\n",
    "    else:\n",
    "        for c in choices[0]:\n",
    "            iterset(prefix+c, choices[1:]) "
   ]
  },
  {
   "cell_type": "code",
   "execution_count": 10,
   "id": "responsible-theory",
   "metadata": {},
   "outputs": [
    {
     "name": "stdout",
     "output_type": "stream",
     "text": [
      "ac\n",
      "ad\n",
      "bc\n",
      "bd\n"
     ]
    }
   ],
   "source": [
    "iterset(\"\", [\"AB\", \"CD\"])"
   ]
  },
  {
   "cell_type": "code",
   "execution_count": 12,
   "id": "assumed-electron",
   "metadata": {},
   "outputs": [
    {
     "name": "stdout",
     "output_type": "stream",
     "text": [
      "eureka\n"
     ]
    }
   ],
   "source": [
    "iterset(\"\", choices)"
   ]
  },
  {
   "cell_type": "code",
   "execution_count": null,
   "id": "understanding-warning",
   "metadata": {},
   "outputs": [],
   "source": []
  }
 ],
 "metadata": {
  "kernelspec": {
   "display_name": "Python 3",
   "language": "python",
   "name": "python3"
  },
  "language_info": {
   "codemirror_mode": {
    "name": "ipython",
    "version": 3
   },
   "file_extension": ".py",
   "mimetype": "text/x-python",
   "name": "python",
   "nbconvert_exporter": "python",
   "pygments_lexer": "ipython3",
   "version": "3.8.8"
  }
 },
 "nbformat": 4,
 "nbformat_minor": 5
}
