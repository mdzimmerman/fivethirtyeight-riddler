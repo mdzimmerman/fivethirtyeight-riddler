{
 "cells": [
  {
   "cell_type": "code",
   "execution_count": 1,
   "metadata": {},
   "outputs": [],
   "source": [
    "from collections import namedtuple\n",
    "\n",
    "import matplotlib.pyplot as plt\n",
    "import numpy as np\n",
    "import pandas as pd"
   ]
  },
  {
   "cell_type": "code",
   "execution_count": 2,
   "metadata": {},
   "outputs": [],
   "source": [
    "Point = namedtuple(\"Point\", [\"x\", \"y\"])"
   ]
  },
  {
   "cell_type": "code",
   "execution_count": 3,
   "metadata": {},
   "outputs": [
    {
     "name": "stdout",
     "output_type": "stream",
     "text": [
      ".....\n",
      "..#..\n",
      ".###.\n",
      "..#..\n",
      ".....\n"
     ]
    }
   ],
   "source": [
    "class Generation:\n",
    "    def __init__(self, points):\n",
    "        self.points = set(points)\n",
    "        self._init_bounds()\n",
    "    \n",
    "    def _init_bounds(self):\n",
    "        xmin, xmax = 0, 0\n",
    "        ymin, ymax = 0, 0\n",
    "        for p in self.points:\n",
    "            if p.x < xmin: \n",
    "                xmin = p.x\n",
    "            if p.x > xmax:\n",
    "                xmax = p.x\n",
    "            if p.y < ymin:\n",
    "                ymin = p.y\n",
    "            if p.y > ymax:\n",
    "                ymax = p.y\n",
    "        self.xmin = xmin\n",
    "        self.xmax = xmax\n",
    "        self.ymin = ymin\n",
    "        self.ymax = ymax\n",
    "        \n",
    "    def print_grid(self, buffer=1):\n",
    "        for y in range(self.ymin-buffer, self.ymax+1+buffer):\n",
    "            for x in range(self.xmin-buffer, self.xmax+1+buffer):\n",
    "                p = Point(x, y)\n",
    "                if p in self.points:\n",
    "                    print(\"#\", end=\"\")\n",
    "                else:\n",
    "                    print(\".\", end=\"\")\n",
    "            print()\n",
    "\n",
    "    def neighbors(self, point):\n",
    "        out = set()\n",
    "        for i in [-1, 0, 1]:\n",
    "            for j in [-1, 0, 1]:\n",
    "                if i == 0 and j == 0:\n",
    "                    continue\n",
    "                out.add(Point(point.x+i, point.y+j))\n",
    "        return out\n",
    "    \n",
    "    def next_gen(self):\n",
    "        out = []\n",
    "        b = 1\n",
    "        for y in range(self.ymin-b, self.ymax+1+b):\n",
    "            for x in range(self.xmin-b, self.xmax+1+b):\n",
    "                p = Point(x,y)\n",
    "                ns = self.neighbors(p)\n",
    "                if len(ns.intersection(self.points)) >= 3:\n",
    "                    out.append(p)\n",
    "        return Generation(out)\n",
    "\n",
    "gen1 = Generation([Point(0,1), Point(-1,0), Point(0,0), Point(1,0), Point(0,-1)])\n",
    "gen1.print_grid()"
   ]
  },
  {
   "cell_type": "code",
   "execution_count": 4,
   "metadata": {},
   "outputs": [
    {
     "data": {
      "text/plain": [
       "{Point(x=3, y=4),\n",
       " Point(x=3, y=5),\n",
       " Point(x=3, y=6),\n",
       " Point(x=4, y=4),\n",
       " Point(x=4, y=6),\n",
       " Point(x=5, y=4),\n",
       " Point(x=5, y=5),\n",
       " Point(x=5, y=6)}"
      ]
     },
     "execution_count": 4,
     "metadata": {},
     "output_type": "execute_result"
    }
   ],
   "source": [
    "gen1.neighbors(Point(4,5))"
   ]
  },
  {
   "cell_type": "code",
   "execution_count": 5,
   "metadata": {},
   "outputs": [
    {
     "name": "stdout",
     "output_type": "stream",
     "text": [
      "gen 2 (points=9)\n",
      "gen 3 (points=13)\n",
      "gen 4 (points=21)\n",
      "gen 5 (points=29)\n",
      "gen 6 (points=37)\n",
      "gen 7 (points=49)\n",
      "gen 8 (points=61)\n",
      "gen 9 (points=73)\n",
      "gen 10 (points=89)\n",
      "gen 11 (points=105)\n",
      "gen 12 (points=121)\n",
      "gen 13 (points=141)\n",
      "gen 14 (points=161)\n",
      "gen 15 (points=181)\n",
      "gen 16 (points=205)\n",
      "gen 17 (points=229)\n",
      "gen 18 (points=253)\n",
      "gen 19 (points=281)\n",
      "gen 20 (points=309)\n",
      "gen 21 (points=337)\n",
      "gen 22 (points=369)\n",
      "gen 23 (points=401)\n",
      "gen 24 (points=433)\n",
      "gen 25 (points=469)\n",
      "gen 26 (points=505)\n",
      "gen 27 (points=541)\n",
      "gen 28 (points=581)\n",
      "gen 29 (points=621)\n",
      "gen 30 (points=661)\n",
      "gen 31 (points=705)\n",
      "gen 32 (points=749)\n",
      "gen 33 (points=793)\n",
      "gen 34 (points=841)\n",
      "gen 35 (points=889)\n",
      "gen 36 (points=937)\n",
      "gen 37 (points=989)\n",
      "gen 38 (points=1041)\n",
      "gen 39 (points=1093)\n",
      "gen 40 (points=1149)\n",
      "gen 41 (points=1205)\n",
      "gen 42 (points=1261)\n",
      "gen 43 (points=1321)\n",
      "gen 44 (points=1381)\n",
      "gen 45 (points=1441)\n",
      "gen 46 (points=1505)\n",
      "gen 47 (points=1569)\n",
      "gen 48 (points=1633)\n",
      "gen 49 (points=1701)\n",
      "gen 50 (points=1769)\n",
      "gen 51 (points=1837)\n",
      "gen 52 (points=1909)\n",
      "gen 53 (points=1981)\n",
      "gen 54 (points=2053)\n",
      "gen 55 (points=2129)\n",
      "gen 56 (points=2205)\n",
      "gen 57 (points=2281)\n",
      "gen 58 (points=2361)\n",
      "gen 59 (points=2441)\n",
      "gen 60 (points=2521)\n",
      "gen 61 (points=2605)\n",
      "gen 62 (points=2689)\n",
      "gen 63 (points=2773)\n",
      "gen 64 (points=2861)\n",
      "gen 65 (points=2949)\n",
      "gen 66 (points=3037)\n",
      "gen 67 (points=3129)\n",
      "gen 68 (points=3221)\n",
      "gen 69 (points=3313)\n",
      "gen 70 (points=3409)\n",
      "gen 71 (points=3505)\n",
      "gen 72 (points=3601)\n",
      "gen 73 (points=3701)\n",
      "gen 74 (points=3801)\n",
      "gen 75 (points=3901)\n",
      "gen 76 (points=4005)\n",
      "gen 77 (points=4109)\n",
      "gen 78 (points=4213)\n",
      "gen 79 (points=4321)\n",
      "gen 80 (points=4429)\n",
      "gen 81 (points=4537)\n",
      "gen 82 (points=4649)\n",
      "gen 83 (points=4761)\n",
      "gen 84 (points=4873)\n",
      "gen 85 (points=4989)\n",
      "gen 86 (points=5105)\n",
      "gen 87 (points=5221)\n",
      "gen 88 (points=5341)\n",
      "gen 89 (points=5461)\n",
      "gen 90 (points=5581)\n",
      "gen 91 (points=5705)\n",
      "gen 92 (points=5829)\n",
      "gen 93 (points=5953)\n",
      "gen 94 (points=6081)\n",
      "gen 95 (points=6209)\n",
      "gen 96 (points=6337)\n",
      "gen 97 (points=6469)\n",
      "gen 98 (points=6601)\n",
      "gen 99 (points=6733)\n",
      "gen 100 (points=6869)\n"
     ]
    }
   ],
   "source": [
    "g = gen1\n",
    "d = [[1, 5]]\n",
    "for i in range(2, 101):\n",
    "    g = g.next_gen()\n",
    "    print(\"gen {} (points={})\".format(i, len(g.points)))\n",
    "    d.append([i, len(g.points)])\n",
    "    #g.print_grid()\n",
    "    \n",
    "df = pd.DataFrame(d, columns=[\"gen\", \"points\"])"
   ]
  },
  {
   "cell_type": "code",
   "execution_count": 7,
   "metadata": {},
   "outputs": [
    {
     "data": {
      "image/png": "[encoded data removed]",
      "text/plain": [
       "<Figure size 432x288 with 1 Axes>"
      ]
     },
     "metadata": {
      "needs_background": "light"
     },
     "output_type": "display_data"
    }
   ],
   "source": [
    "def as_array(grid, xmin=None, xmax=None, ymin=None, ymax=None):\n",
    "    if xmin is None:\n",
    "        xmin = grid.xmin\n",
    "    if xmax is None:\n",
    "        xmax = grid.xmax\n",
    "    if ymin is None:\n",
    "        ymin = grid.ymin\n",
    "    if ymax is None:\n",
    "        ymax = grid.ymax\n",
    "    data = []\n",
    "    for y in range(ymin, ymax+1):\n",
    "        data.append([])\n",
    "        for x in range(xmin, xmax+1):\n",
    "            p = Point(x,y)\n",
    "            if p in grid.points:\n",
    "                data[-1].append(1)\n",
    "            else:\n",
    "                data[-1].append(0)\n",
    "    return np.array(data)\n",
    "        \n",
    "plt.imshow(as_array(g, -60, 60, -60, 60))\n",
    "plt.show()"
   ]
  },
  {
   "cell_type": "code",
   "execution_count": 50,
   "metadata": {},
   "outputs": [
    {
     "data": {
      "image/png": "[encoded data removed]",
      "text/plain": [
       "<Figure size 432x288 with 1 Axes>"
      ]
     },
     "metadata": {
      "needs_background": "light"
     },
     "output_type": "display_data"
    }
   ],
   "source": [
    "plt.scatter(df[\"gen\"], df[\"points\"])\n",
    "plt.show()"
   ]
  },
  {
   "cell_type": "code",
   "execution_count": 10,
   "metadata": {},
   "outputs": [
    {
     "data": {
      "text/plain": [
       "'1.16.4'"
      ]
     },
     "execution_count": 10,
     "metadata": {},
     "output_type": "execute_result"
    }
   ],
   "source": [
    "np.__version__"
   ]
  },
  {
   "cell_type": "code",
   "execution_count": 9,
   "metadata": {},
   "outputs": [
    {
     "data": {
      "text/plain": [
       "<module 'numpy' from '/home/mzimmerman/local/anaconda3/lib/python3.7/site-packages/numpy/__init__.py'>"
      ]
     },
     "execution_count": 9,
     "metadata": {},
     "output_type": "execute_result"
    }
   ],
   "source": [
    "np"
   ]
  },
  {
   "cell_type": "code",
   "execution_count": 33,
   "metadata": {},
   "outputs": [],
   "source": [
    "p = np.polynomial.polynomial.polyfit(df[\"gen\"][:], df[\"points\"][:], 2)"
   ]
  },
  {
   "cell_type": "code",
   "execution_count": 34,
   "metadata": {},
   "outputs": [
    {
     "data": {
      "text/plain": [
       "<matplotlib.collections.PathCollection at 0x7fa766865400>"
      ]
     },
     "execution_count": 34,
     "metadata": {},
     "output_type": "execute_result"
    },
    {
     "data": {
      "image/png": "[encoded data removed]",
      "text/plain": [
       "<Figure size 432x288 with 1 Axes>"
      ]
     },
     "metadata": {
      "needs_background": "light"
     },
     "output_type": "display_data"
    }
   ],
   "source": [
    "x = np.arange(0, 100, 0.1)\n",
    "plt.scatter(x, [np.polyval(p, i) for i in x])\n",
    "plt.scatter(df[\"gen\"], df[\"points\"])\n",
    "#plt.xlim([0, 20])\n",
    "#plt.ylim([0, 1000])"
   ]
  },
  {
   "cell_type": "code",
   "execution_count": 35,
   "metadata": {},
   "outputs": [
    {
     "data": {
      "text/plain": [
       "0       1\n",
       "1       2\n",
       "2       3\n",
       "3       4\n",
       "4       5\n",
       "5       6\n",
       "6       7\n",
       "7       8\n",
       "8       9\n",
       "9      10\n",
       "10     11\n",
       "11     12\n",
       "12     13\n",
       "13     14\n",
       "14     15\n",
       "15     16\n",
       "16     17\n",
       "17     18\n",
       "18     19\n",
       "19     20\n",
       "20     21\n",
       "21     22\n",
       "22     23\n",
       "23     24\n",
       "24     25\n",
       "25     26\n",
       "26     27\n",
       "27     28\n",
       "28     29\n",
       "29     30\n",
       "     ... \n",
       "70     71\n",
       "71     72\n",
       "72     73\n",
       "73     74\n",
       "74     75\n",
       "75     76\n",
       "76     77\n",
       "77     78\n",
       "78     79\n",
       "79     80\n",
       "80     81\n",
       "81     82\n",
       "82     83\n",
       "83     84\n",
       "84     85\n",
       "85     86\n",
       "86     87\n",
       "87     88\n",
       "88     89\n",
       "89     90\n",
       "90     91\n",
       "91     92\n",
       "92     93\n",
       "93     94\n",
       "94     95\n",
       "95     96\n",
       "96     97\n",
       "97     98\n",
       "98     99\n",
       "99    100\n",
       "Name: gen, Length: 100, dtype: int64"
      ]
     },
     "execution_count": 35,
     "metadata": {},
     "output_type": "execute_result"
    }
   ],
   "source": [
    "df[\"gen\"][:]"
   ]
  },
  {
   "cell_type": "code",
   "execution_count": null,
   "metadata": {},
   "outputs": [],
   "source": []
  }
 ],
 "metadata": {
  "kernelspec": {
   "display_name": "Python 3 (ipykernel)",
   "language": "python",
   "name": "python3"
  },
  "language_info": {
   "codemirror_mode": {
    "name": "ipython",
    "version": 3
   },
   "file_extension": ".py",
   "mimetype": "text/x-python",
   "name": "python",
   "nbconvert_exporter": "python",
   "pygments_lexer": "ipython3",
   "version": "3.7.3"
  }
 },
 "nbformat": 4,
 "nbformat_minor": 4
}
