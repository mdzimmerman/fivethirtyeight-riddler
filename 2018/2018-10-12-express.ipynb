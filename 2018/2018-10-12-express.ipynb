{
 "cells": [
  {
   "cell_type": "markdown",
   "metadata": {},
   "source": [
    "# FiveThirtyEight Riddler Express for 2018-10-12 "
   ]
  },
  {
   "cell_type": "code",
   "execution_count": 1,
   "metadata": {},
   "outputs": [],
   "source": [
    "import math\n",
    "import matplotlib.pyplot as plt\n",
    "import numpy as np"
   ]
  },
  {
   "cell_type": "markdown",
   "metadata": {},
   "source": [
    "The probability of a 1 person having an unbirthday is $\\frac{364}{365}$. The probability of 2 people both having an unbirthday is $\\left( \\frac{364}{365} \\right)^2$, 3 all having an unbirthday is $\\left( \\frac{364}{365} \\right)^3$, and so on. In general, for $n$ people:\n",
    "\n",
    "$$p(n) = \\left( \\frac{364}{365} \\right) ^ n$$\n",
    "\n",
    "This is pretty easy to implement:"
   ]
  },
  {
   "cell_type": "code",
   "execution_count": 2,
   "metadata": {},
   "outputs": [],
   "source": [
    "def p(n):\n",
    "    return math.pow(364.0/365.0, n)"
   ]
  },
  {
   "cell_type": "code",
   "execution_count": 3,
   "metadata": {},
   "outputs": [
    {
     "data": {
      "image/png": "[encoded data removed]",
      "text/plain": [
       "<Figure size 432x288 with 1 Axes>"
      ]
     },
     "metadata": {},
     "output_type": "display_data"
    }
   ],
   "source": [
    "nr = np.arange(1, 1000)\n",
    "plt.plot(nr, [p(n) for n in nr], '-')\n",
    "plt.xlabel(\"$n$\")\n",
    "plt.ylabel(\"$p(n)$\")\n",
    "plt.show()"
   ]
  },
  {
   "cell_type": "markdown",
   "metadata": {},
   "source": [
    "The probability $p(n)$ drops to about 0.5 around $n=250$ or so. We can also calculate this exactly:\n",
    "\n",
    "$$ \\left(\\frac{364}{365}\\right) ^ n < 0.5 $$\n",
    "\n",
    "$$ n \\log{\\frac{364}{365}} < \\log{0.5} $$\n",
    "\n",
    "$$ n > \\frac{\\log{0.5}}{\\log{\\frac{364}{365}}} \\approx 252.6 $$ "
   ]
  },
  {
   "cell_type": "code",
   "execution_count": 4,
   "metadata": {},
   "outputs": [
    {
     "data": {
      "text/plain": [
       "252.65198884415864"
      ]
     },
     "execution_count": 4,
     "metadata": {},
     "output_type": "execute_result"
    }
   ],
   "source": [
    "math.log10(0.5)/math.log10(364.0/365.0)"
   ]
  },
  {
   "cell_type": "code",
   "execution_count": null,
   "metadata": {},
   "outputs": [],
   "source": []
  }
 ],
 "metadata": {
  "kernelspec": {
   "display_name": "Python 3",
   "language": "python",
   "name": "python3"
  },
  "language_info": {
   "codemirror_mode": {
    "name": "ipython",
    "version": 3
   },
   "file_extension": ".py",
   "mimetype": "text/x-python",
   "name": "python",
   "nbconvert_exporter": "python",
   "pygments_lexer": "ipython3",
   "version": "3.6.8"
  }
 },
 "nbformat": 4,
 "nbformat_minor": 2
}
