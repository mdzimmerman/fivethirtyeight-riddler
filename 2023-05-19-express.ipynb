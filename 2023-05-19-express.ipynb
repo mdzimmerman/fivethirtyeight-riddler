{
 "cells": [
  {
   "cell_type": "code",
   "execution_count": 12,
   "metadata": {},
   "outputs": [
    {
     "data": {
      "text/plain": [
       "['HHHH',\n",
       " 'HHHLH',\n",
       " 'HHHLLH',\n",
       " 'HHHLLLH',\n",
       " 'HHHLLLL',\n",
       " 'HHLHH',\n",
       " 'HHLHLH',\n",
       " 'HHLHLLH',\n",
       " 'HHLHLLL',\n",
       " 'HHLLHH',\n",
       " 'HHLLHLH',\n",
       " 'HHLLHLL',\n",
       " 'HHLLLHH',\n",
       " 'HHLLLHL',\n",
       " 'HHLLLL',\n",
       " 'HLHHH',\n",
       " 'HLHHLH',\n",
       " 'HLHHLLH',\n",
       " 'HLHHLLL',\n",
       " 'HLHLHH',\n",
       " 'HLHLHLH',\n",
       " 'HLHLHLL',\n",
       " 'HLHLLHH',\n",
       " 'HLHLLHL',\n",
       " 'HLHLLL',\n",
       " 'HLLHHH',\n",
       " 'HLLHHLH',\n",
       " 'HLLHHLL',\n",
       " 'HLLHLHH',\n",
       " 'HLLHLHL',\n",
       " 'HLLHLL',\n",
       " 'HLLLHHH',\n",
       " 'HLLLHHL',\n",
       " 'HLLLHL',\n",
       " 'HLLLL',\n",
       " 'LHHHH',\n",
       " 'LHHHLH',\n",
       " 'LHHHLLH',\n",
       " 'LHHHLLL',\n",
       " 'LHHLHH',\n",
       " 'LHHLHLH',\n",
       " 'LHHLHLL',\n",
       " 'LHHLLHH',\n",
       " 'LHHLLHL',\n",
       " 'LHHLLL',\n",
       " 'LHLHHH',\n",
       " 'LHLHHLH',\n",
       " 'LHLHHLL',\n",
       " 'LHLHLHH',\n",
       " 'LHLHLHL',\n",
       " 'LHLHLL',\n",
       " 'LHLLHHH',\n",
       " 'LHLLHHL',\n",
       " 'LHLLHL',\n",
       " 'LHLLL',\n",
       " 'LLHHHH',\n",
       " 'LLHHHLH',\n",
       " 'LLHHHLL',\n",
       " 'LLHHLHH',\n",
       " 'LLHHLHL',\n",
       " 'LLHHLL',\n",
       " 'LLHLHHH',\n",
       " 'LLHLHHL',\n",
       " 'LLHLHL',\n",
       " 'LLHLL',\n",
       " 'LLLHHHH',\n",
       " 'LLLHHHL',\n",
       " 'LLLHHL',\n",
       " 'LLLHL',\n",
       " 'LLLL']"
      ]
     },
     "execution_count": 12,
     "metadata": {},
     "output_type": "execute_result"
    }
   ],
   "source": [
    "def generate_all_outcomes():\n",
    "    out = []\n",
    "    def f(record):\n",
    "        if record.count('H') == 4 or record.count('L') == 4:\n",
    "            out.append(record)\n",
    "        else:\n",
    "            f(record + 'H')\n",
    "            f(record + 'L')\n",
    "    f(\"\")\n",
    "    return(out)    \n",
    "\n",
    "outcomes = generate_all_outcomes()\n",
    "outcomes"
   ]
  },
  {
   "cell_type": "code",
   "execution_count": 10,
   "metadata": {},
   "outputs": [
    {
     "data": {
      "text/plain": [
       "70"
      ]
     },
     "execution_count": 10,
     "metadata": {},
     "output_type": "execute_result"
    }
   ],
   "source": [
    "len(outcomes)"
   ]
  },
  {
   "cell_type": "code",
   "execution_count": 19,
   "metadata": {},
   "outputs": [
    {
     "data": {
      "text/plain": [
       "0.0576"
      ]
     },
     "execution_count": 19,
     "metadata": {},
     "output_type": "execute_result"
    }
   ],
   "source": [
    "f232 = 'HHLLLHH'\n",
    "f22111 = 'HHLLHLH'\n",
    "\n",
    "def prob(outcome, form):\n",
    "    out = 1.0\n",
    "    for p, f in zip(outcome, form):\n",
    "        #print(p, f)\n",
    "        if p == f:\n",
    "            out *= 0.6\n",
    "        else:\n",
    "            out *= 0.4\n",
    "    return out\n",
    "\n",
    "prob(outcomes[0], f232)"
   ]
  },
  {
   "cell_type": "code",
   "execution_count": 20,
   "metadata": {},
   "outputs": [
    {
     "data": {
      "text/plain": [
       "'H'"
      ]
     },
     "execution_count": 20,
     "metadata": {},
     "output_type": "execute_result"
    }
   ],
   "source": [
    "def winner(outcome):\n",
    "    if outcome.count('H') == 4:\n",
    "        return 'H'\n",
    "    else:\n",
    "        return 'L'\n",
    "\n",
    "winner(outcomes[0])"
   ]
  },
  {
   "cell_type": "code",
   "execution_count": 23,
   "metadata": {},
   "outputs": [
    {
     "name": "stdout",
     "output_type": "stream",
     "text": [
      "HHHH 0.0576 H\n",
      "HHHLH 0.05183999999999999 H\n",
      "HHHLLH 0.013824000000000001 H\n",
      "HHHLLLH 0.0124416 H\n",
      "HHHLLLL 0.0082944 L\n",
      "HHLHH 0.051840000000000004 H\n",
      "HHLHLH 0.013824000000000001 H\n",
      "HHLHLLH 0.0124416 H\n",
      "HHLHLLL 0.0082944 L\n",
      "HHLLHH 0.031104 H\n",
      "HHLLHLH 0.027993599999999997 H\n",
      "HHLLHLL 0.0186624 L\n",
      "HHLLLHH 0.0124416 H\n",
      "HHLLLHL 0.0082944 L\n",
      "HHLLLL 0.031103999999999996 L\n",
      "HLHHH 0.02304 H\n",
      "HLHHLH 0.006144000000000001 H\n",
      "HLHHLLH 0.0055296 H\n",
      "HLHHLLL 0.0036864000000000003 L\n",
      "HLHLHH 0.013824000000000001 H\n",
      "HLHLHLH 0.0124416 H\n",
      "HLHLHLL 0.0082944 L\n",
      "HLHLLHH 0.0055296 H\n",
      "HLHLLHL 0.0036864000000000003 L\n",
      "HLHLLL 0.013824000000000001 L\n",
      "HLLHHH 0.013824000000000001 H\n",
      "HLLHHLH 0.0124416 H\n",
      "HLLHHLL 0.0082944 L\n",
      "HLLHLHH 0.0055296 H\n",
      "HLLHLHL 0.0036864000000000003 L\n",
      "HLLHLL 0.013824000000000001 L\n",
      "HLLLHHH 0.012441599999999999 H\n",
      "HLLLHHL 0.008294399999999999 L\n",
      "HLLLHL 0.031103999999999993 L\n",
      "HLLLL 0.03456 L\n",
      "LHHHH 0.02304 H\n",
      "LHHHLH 0.006144000000000001 H\n",
      "LHHHLLH 0.0055296 H\n",
      "LHHHLLL 0.0036864000000000003 L\n",
      "LHHLHH 0.013824000000000001 H\n",
      "LHHLHLH 0.0124416 H\n",
      "LHHLHLL 0.0082944 L\n",
      "LHHLLHH 0.0055296 H\n",
      "LHHLLHL 0.0036864000000000003 L\n",
      "LHHLLL 0.013824000000000001 L\n",
      "LHLHHH 0.013824000000000001 H\n",
      "LHLHHLH 0.0124416 H\n",
      "LHLHHLL 0.0082944 L\n",
      "LHLHLHH 0.0055296 H\n",
      "LHLHLHL 0.0036864000000000003 L\n",
      "LHLHLL 0.013824000000000001 L\n",
      "LHLLHHH 0.012441599999999999 H\n",
      "LHLLHHL 0.008294399999999999 L\n",
      "LHLLHL 0.031103999999999993 L\n",
      "LHLLL 0.03456 L\n",
      "LLHHHH 0.006144000000000002 H\n",
      "LLHHHLH 0.005529600000000001 H\n",
      "LLHHHLL 0.003686400000000001 L\n",
      "LLHHLHH 0.0024576000000000008 H\n",
      "LLHHLHL 0.0016384000000000008 L\n",
      "LLHHLL 0.006144000000000003 L\n",
      "LLHLHHH 0.005529600000000001 H\n",
      "LLHLHHL 0.003686400000000001 L\n",
      "LLHLHL 0.013824000000000003 L\n",
      "LLHLL 0.015360000000000006 L\n",
      "LLLHHHH 0.005529600000000001 H\n",
      "LLLHHHL 0.003686400000000001 L\n",
      "LLLHHL 0.013824000000000003 L\n",
      "LLLHL 0.015360000000000006 L\n",
      "LLLL 0.057600000000000005 L\n"
     ]
    }
   ],
   "source": [
    "for o in outcomes:\n",
    "    print(o, prob(o, f22111), winner(o))"
   ]
  },
  {
   "cell_type": "code",
   "execution_count": null,
   "metadata": {},
   "outputs": [],
   "source": []
  }
 ],
 "metadata": {
  "kernelspec": {
   "display_name": "Python 3",
   "language": "python",
   "name": "python3"
  },
  "language_info": {
   "codemirror_mode": {
    "name": "ipython",
    "version": 3
   },
   "file_extension": ".py",
   "mimetype": "text/x-python",
   "name": "python",
   "nbconvert_exporter": "python",
   "pygments_lexer": "ipython3",
   "version": "3.7.3"
  }
 },
 "nbformat": 4,
 "nbformat_minor": 4
}
