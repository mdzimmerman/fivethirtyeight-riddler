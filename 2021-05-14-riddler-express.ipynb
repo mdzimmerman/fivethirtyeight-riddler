{
 "cells": [
  {
   "cell_type": "code",
   "execution_count": 33,
   "metadata": {},
   "outputs": [],
   "source": [
    "import functools\n",
    "import matplotlib.pyplot as plt"
   ]
  },
  {
   "cell_type": "code",
   "execution_count": 63,
   "metadata": {},
   "outputs": [],
   "source": [
    "x=[0,1]\n",
    "y1=[0, 0.5]\n",
    "y2=[0, 0.75]\n",
    "for n in range(2,5001):\n",
    "    x.append(n)\n",
    "    y1.append(y1[n-1] - y1[n-1] * (1.0/(n+1)))\n",
    "    y2.append(y2[n-1] - y2[n-1] * (1.0/((n+1)*(n+1))))"
   ]
  },
  {
   "cell_type": "code",
   "execution_count": 64,
   "metadata": {},
   "outputs": [
    {
     "name": "stdout",
     "output_type": "stream",
     "text": [
      " 1 0.5000 0.7500\n",
      " 2 0.3333 0.6667\n",
      " 3 0.2500 0.6250\n",
      " 4 0.2000 0.6000\n",
      " 5 0.1667 0.5833\n",
      " 6 0.1429 0.5714\n",
      " 7 0.1250 0.5625\n",
      " 8 0.1111 0.5556\n",
      " 9 0.1000 0.5500\n",
      "10 0.0909 0.5455\n",
      "11 0.0833 0.5417\n",
      "12 0.0769 0.5385\n",
      "13 0.0714 0.5357\n",
      "14 0.0667 0.5333\n",
      "15 0.0625 0.5313\n",
      "16 0.0588 0.5294\n",
      "17 0.0556 0.5278\n",
      "18 0.0526 0.5263\n",
      "19 0.0500 0.5250\n",
      "20 0.0476 0.5238\n"
     ]
    }
   ],
   "source": [
    "for i in range(1, 21):\n",
    "    print(\"{:2d} {:.4f} {:.4f}\".format(i, y1[i], y2[i]))"
   ]
  },
  {
   "cell_type": "code",
   "execution_count": 65,
   "metadata": {},
   "outputs": [
    {
     "data": {
      "image/png": "[encoded data removed]",
      "text/plain": [
       "<Figure size 432x288 with 1 Axes>"
      ]
     },
     "metadata": {
      "needs_background": "light"
     },
     "output_type": "display_data"
    }
   ],
   "source": [
    "plt.plot(x, y1)\n",
    "plt.plot(x, y2)\n",
    "plt.xscale(\"log\")\n",
    "plt.xlim(1,5000)\n",
    "#plt.yscale(\"log\")\n",
    "plt.show()"
   ]
  },
  {
   "cell_type": "code",
   "execution_count": 53,
   "metadata": {},
   "outputs": [
    {
     "data": {
      "text/plain": [
       "0.00019996000799840104"
      ]
     },
     "execution_count": 53,
     "metadata": {},
     "output_type": "execute_result"
    }
   ],
   "source": [
    "y1[5000]"
   ]
  },
  {
   "cell_type": "code",
   "execution_count": 54,
   "metadata": {},
   "outputs": [
    {
     "data": {
      "text/plain": [
       "0.33339998666933085"
      ]
     },
     "execution_count": 54,
     "metadata": {},
     "output_type": "execute_result"
    }
   ],
   "source": [
    "y2[5000]"
   ]
  },
  {
   "cell_type": "code",
   "execution_count": null,
   "metadata": {},
   "outputs": [],
   "source": []
  }
 ],
 "metadata": {
  "kernelspec": {
   "display_name": "Python 3",
   "language": "python",
   "name": "python3"
  },
  "language_info": {
   "codemirror_mode": {
    "name": "ipython",
    "version": 3
   },
   "file_extension": ".py",
   "mimetype": "text/x-python",
   "name": "python",
   "nbconvert_exporter": "python",
   "pygments_lexer": "ipython3",
   "version": "3.7.3"
  }
 },
 "nbformat": 4,
 "nbformat_minor": 2
}
