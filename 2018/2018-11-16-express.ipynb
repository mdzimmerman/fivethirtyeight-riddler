{
 "cells": [
  {
   "cell_type": "code",
   "execution_count": 79,
   "metadata": {},
   "outputs": [],
   "source": [
    "import matplotlib.pyplot as plt\n",
    "import numpy as np\n",
    "import pandas as pd\n",
    "from scipy.stats import binom"
   ]
  },
  {
   "cell_type": "code",
   "execution_count": 2,
   "metadata": {},
   "outputs": [],
   "source": []
  },
  {
   "cell_type": "code",
   "execution_count": 29,
   "metadata": {},
   "outputs": [],
   "source": [
    "N=12\n",
    "pwin=0.20\n",
    "plos=0.15\n",
    "ptie=0.65"
   ]
  },
  {
   "cell_type": "code",
   "execution_count": 93,
   "metadata": {},
   "outputs": [],
   "source": [
    "class ChessProb:\n",
    "\n",
    "    def __init__(self, N=12, pwin=0.20, ploss=0.15):\n",
    "        self.N = N\n",
    "        self.pwin  = pwin\n",
    "        self.ploss = ploss\n",
    "        self.ptie  = 1.0 - pwin - ploss\n",
    "        self.d = pd.DataFrame({\"wins\": np.arange(0,N+1)})\n",
    "        self._calc_probs()\n",
    "    \n",
    "    def pwintotal(self):\n",
    "        return self.d['p'].sum()\n",
    "\n",
    "    def _ties(self, n):\n",
    "        pts = self.N // 2 - n\n",
    "        if pts < 0:\n",
    "            return None\n",
    "        else:\n",
    "            return 2 * pts + 1\n",
    "\n",
    "    def _pwins(self, x):\n",
    "        return binom.pmf(x, self.N, self.pwin)\n",
    "\n",
    "    def _pties(self, x):\n",
    "        if x == None or np.isnan(x):\n",
    "            return 1.0\n",
    "        elif x > self.N:\n",
    "            return 0.0\n",
    "        s = 0\n",
    "        for k in range(int(x), self.N+1):\n",
    "            s += binom.pmf(k, self.N, self.ptie)\n",
    "        return s\n",
    "\n",
    "    def _calc_probs(self):\n",
    "        self.d['ties']  = self.d['wins'].apply(self._ties)\n",
    "        self.d['pwins'] = self.d['wins'].apply(self._pwins)\n",
    "        self.d['pties'] = self.d['ties'].apply(self._pties)\n",
    "        self.d['p']     = self.d['pwins'] * self.d['pties']\n",
    "    \n",
    "    \n",
    "p12 = ChessProb(12)\n",
    "p24 = ChessProb(24)"
   ]
  },
  {
   "cell_type": "code",
   "execution_count": 94,
   "metadata": {},
   "outputs": [
    {
     "data": {
      "text/plain": [
       "0.4949813050849382"
      ]
     },
     "execution_count": 94,
     "metadata": {},
     "output_type": "execute_result"
    }
   ],
   "source": [
    "p12.pwintotal()"
   ]
  },
  {
   "cell_type": "code",
   "execution_count": 95,
   "metadata": {},
   "outputs": [
    {
     "data": {
      "text/plain": [
       "0.5491211916656698"
      ]
     },
     "execution_count": 95,
     "metadata": {},
     "output_type": "execute_result"
    }
   ],
   "source": [
    "p24.pwintotal()"
   ]
  },
  {
   "cell_type": "code",
   "execution_count": 96,
   "metadata": {},
   "outputs": [],
   "source": [
    "x = np.arange(10, 510, 10)"
   ]
  },
  {
   "cell_type": "code",
   "execution_count": 97,
   "metadata": {},
   "outputs": [
    {
     "data": {
      "text/plain": [
       "array([ 10,  20,  30,  40,  50,  60,  70,  80,  90, 100, 110, 120, 130,\n",
       "       140, 150, 160, 170, 180, 190, 200, 210, 220, 230, 240, 250, 260,\n",
       "       270, 280, 290, 300, 310, 320, 330, 340, 350, 360, 370, 380, 390,\n",
       "       400, 410, 420, 430, 440, 450, 460, 470, 480, 490, 500])"
      ]
     },
     "execution_count": 97,
     "metadata": {},
     "output_type": "execute_result"
    }
   ],
   "source": [
    "x"
   ]
  },
  {
   "cell_type": "code",
   "execution_count": 98,
   "metadata": {},
   "outputs": [],
   "source": [
    "y = np.array([ChessProb(n).pwintotal() for n in x])"
   ]
  },
  {
   "cell_type": "code",
   "execution_count": 99,
   "metadata": {},
   "outputs": [
    {
     "data": {
      "text/plain": [
       "array([0.48090611, 0.53461115, 0.56735824, 0.5919071 , 0.61195713,\n",
       "       0.6291078 , 0.64420437, 0.65775214, 0.67007968, 0.68141403,\n",
       "       0.69191956, 0.70171961, 0.71090952, 0.71956476, 0.7277463 ,\n",
       "       0.73550423, 0.74288031, 0.7499098 , 0.75662282, 0.76304532,\n",
       "       0.76919989, 0.77510632, 0.78078207, 0.78624269, 0.79150202,\n",
       "       0.79657252, 0.80146542, 0.80619092, 0.81075828, 0.81517595,\n",
       "       0.81945171, 0.82359268, 0.82760543, 0.83149606, 0.83527019,\n",
       "       0.83893307, 0.84248958, 0.84594428, 0.84930143, 0.85256501,\n",
       "       0.85573879, 0.85882627, 0.8618308 , 0.86475548, 0.86760329,\n",
       "       0.87037702, 0.87307932, 0.87571269, 0.87827954, 0.88078211])"
      ]
     },
     "execution_count": 99,
     "metadata": {},
     "output_type": "execute_result"
    }
   ],
   "source": [
    "y"
   ]
  },
  {
   "cell_type": "code",
   "execution_count": 100,
   "metadata": {},
   "outputs": [
    {
     "data": {
      "text/plain": [
       "<matplotlib.collections.PathCollection at 0x7fd91e69f898>"
      ]
     },
     "execution_count": 100,
     "metadata": {},
     "output_type": "execute_result"
    },
    {
     "data": {
      "image/png": "[encoded data removed]",
      "text/plain": [
       "<Figure size 432x288 with 1 Axes>"
      ]
     },
     "metadata": {},
     "output_type": "display_data"
    }
   ],
   "source": [
    "plt.scatter(x, y)"
   ]
  },
  {
   "cell_type": "code",
   "execution_count": null,
   "metadata": {},
   "outputs": [],
   "source": []
  }
 ],
 "metadata": {
  "kernelspec": {
   "display_name": "Python 3",
   "language": "python",
   "name": "python3"
  },
  "language_info": {
   "codemirror_mode": {
    "name": "ipython",
    "version": 3
   },
   "file_extension": ".py",
   "mimetype": "text/x-python",
   "name": "python",
   "nbconvert_exporter": "python",
   "pygments_lexer": "ipython3",
   "version": "3.6.5"
  }
 },
 "nbformat": 4,
 "nbformat_minor": 2
}
